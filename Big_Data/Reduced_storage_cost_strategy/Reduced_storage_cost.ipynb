{
 "cells": [
  {
   "cell_type": "markdown",
   "metadata": {},
   "source": [
    "<h2 style=\"color:green\" align=\"center\">Efficient Data Layout and retrieval strategy with reduced storage cost</2>"
   ]
  },
  {
   "cell_type": "markdown",
   "metadata": {},
   "source": [
    "### Importing the required packages"
   ]
  },
  {
   "cell_type": "code",
   "execution_count": 20,
   "metadata": {
    "collapsed": true
   },
   "outputs": [],
   "source": [
    "import time\n",
    "import psycopg2\n",
    "import pandas as pd"
   ]
  },
  {
   "cell_type": "markdown",
   "metadata": {},
   "source": [
    "### Checking the connection with PostGreSQL"
   ]
  },
  {
   "cell_type": "code",
   "execution_count": 21,
   "metadata": {},
   "outputs": [
    {
     "name": "stdout",
     "output_type": "stream",
     "text": [
      "execution_time:  0.008376121520996094\n"
     ]
    }
   ],
   "source": [
    "start_time = time.time()\n",
    "conn = psycopg2.connect(\n",
    "    host=\"localhost\",\n",
    "    database=\"coursera\",\n",
    "    user=\"postgres\",\n",
    "    password=\"rocky1405!\")\n",
    "print(\"execution_time: \", time.time() - start_time)"
   ]
  },
  {
   "cell_type": "markdown",
   "metadata": {},
   "source": [
    "### Functions to hit the DB & get the results"
   ]
  },
  {
   "cell_type": "code",
   "execution_count": 23,
   "metadata": {
    "collapsed": true
   },
   "outputs": [],
   "source": [
    "def run_query(command):\n",
    "    conn = psycopg2.connect(\n",
    "            host=\"localhost\",\n",
    "            database=\"coursera\",\n",
    "            user=\"postgres\",\n",
    "            port=5432,\n",
    "            password=\"rocky1405!\")\n",
    "    cur = conn.cursor()\n",
    "    cur.execute(command)\n",
    "    cur.close()\n",
    "    conn.commit()\n",
    "    conn.close()\n",
    "\n",
    "def run_queries(command):\n",
    "    conn = psycopg2.connect(\n",
    "            host=\"localhost\",\n",
    "            database=\"coursera\",\n",
    "            port=5432,\n",
    "            user=\"postgres\",\n",
    "            password=\"rocky1405!\")\n",
    "    cur = conn.cursor()\n",
    "    cur.execute(command)\n",
    "    rows = cur.fetchall()\n",
    "    cur.close()\n",
    "    conn.commit()\n",
    "    conn.close()\n",
    "    return rows"
   ]
  },
  {
   "cell_type": "markdown",
   "metadata": {},
   "source": [
    "### Loading the data"
   ]
  },
  {
   "cell_type": "code",
   "execution_count": 18,
   "metadata": {},
   "outputs": [
    {
     "data": {
      "text/html": [
       "<div>\n",
       "<style scoped>\n",
       "    .dataframe tbody tr th:only-of-type {\n",
       "        vertical-align: middle;\n",
       "    }\n",
       "\n",
       "    .dataframe tbody tr th {\n",
       "        vertical-align: top;\n",
       "    }\n",
       "\n",
       "    .dataframe thead th {\n",
       "        text-align: right;\n",
       "    }\n",
       "</style>\n",
       "<table border=\"1\" class=\"dataframe\">\n",
       "  <thead>\n",
       "    <tr style=\"text-align: right;\">\n",
       "      <th></th>\n",
       "      <th>Course Name</th>\n",
       "      <th>University</th>\n",
       "      <th>Difficulty Level</th>\n",
       "      <th>Course Rating</th>\n",
       "      <th>Course URL</th>\n",
       "      <th>Course Description</th>\n",
       "      <th>Skills</th>\n",
       "    </tr>\n",
       "  </thead>\n",
       "  <tbody>\n",
       "    <tr>\n",
       "      <th>0</th>\n",
       "      <td>Write A Feature Length Screenplay For Film Or ...</td>\n",
       "      <td>Michigan State University</td>\n",
       "      <td>Beginner</td>\n",
       "      <td>4.8</td>\n",
       "      <td>https://www.coursera.org/learn/write-a-feature...</td>\n",
       "      <td>Write a Full Length Feature Film Script  In th...</td>\n",
       "      <td>Drama  Comedy  peering  screenwriting  film  D...</td>\n",
       "    </tr>\n",
       "    <tr>\n",
       "      <th>1</th>\n",
       "      <td>Business Strategy: Business Model Canvas Analy...</td>\n",
       "      <td>Coursera Project Network</td>\n",
       "      <td>Beginner</td>\n",
       "      <td>4.8</td>\n",
       "      <td>https://www.coursera.org/learn/canvas-analysis...</td>\n",
       "      <td>By the end of this guided project, you will be...</td>\n",
       "      <td>Finance  business plan  persona (user experien...</td>\n",
       "    </tr>\n",
       "    <tr>\n",
       "      <th>2</th>\n",
       "      <td>Silicon Thin Film Solar Cells</td>\n",
       "      <td>�cole Polytechnique</td>\n",
       "      <td>Advanced</td>\n",
       "      <td>4.1</td>\n",
       "      <td>https://www.coursera.org/learn/silicon-thin-fi...</td>\n",
       "      <td>This course consists of a general presentation...</td>\n",
       "      <td>chemistry  physics  Solar Energy  film  lambda...</td>\n",
       "    </tr>\n",
       "    <tr>\n",
       "      <th>3</th>\n",
       "      <td>Finance for Managers</td>\n",
       "      <td>IESE Business School</td>\n",
       "      <td>Intermediate</td>\n",
       "      <td>4.8</td>\n",
       "      <td>https://www.coursera.org/learn/operational-fin...</td>\n",
       "      <td>When it comes to numbers, there is always more...</td>\n",
       "      <td>accounts receivable  dupont analysis  analysis...</td>\n",
       "    </tr>\n",
       "    <tr>\n",
       "      <th>4</th>\n",
       "      <td>Retrieve Data using Single-Table SQL Queries</td>\n",
       "      <td>Coursera Project Network</td>\n",
       "      <td>Beginner</td>\n",
       "      <td>4.6</td>\n",
       "      <td>https://www.coursera.org/learn/single-table-sq...</td>\n",
       "      <td>In this course you�ll learn how to effectively...</td>\n",
       "      <td>Data Analysis  select (sql)  database manageme...</td>\n",
       "    </tr>\n",
       "  </tbody>\n",
       "</table>\n",
       "</div>"
      ],
      "text/plain": [
       "                                         Course Name  \\\n",
       "0  Write A Feature Length Screenplay For Film Or ...   \n",
       "1  Business Strategy: Business Model Canvas Analy...   \n",
       "2                      Silicon Thin Film Solar Cells   \n",
       "3                               Finance for Managers   \n",
       "4       Retrieve Data using Single-Table SQL Queries   \n",
       "\n",
       "                  University Difficulty Level Course Rating  \\\n",
       "0  Michigan State University         Beginner           4.8   \n",
       "1   Coursera Project Network         Beginner           4.8   \n",
       "2        �cole Polytechnique         Advanced           4.1   \n",
       "3       IESE Business School     Intermediate           4.8   \n",
       "4   Coursera Project Network         Beginner           4.6   \n",
       "\n",
       "                                          Course URL  \\\n",
       "0  https://www.coursera.org/learn/write-a-feature...   \n",
       "1  https://www.coursera.org/learn/canvas-analysis...   \n",
       "2  https://www.coursera.org/learn/silicon-thin-fi...   \n",
       "3  https://www.coursera.org/learn/operational-fin...   \n",
       "4  https://www.coursera.org/learn/single-table-sq...   \n",
       "\n",
       "                                  Course Description  \\\n",
       "0  Write a Full Length Feature Film Script  In th...   \n",
       "1  By the end of this guided project, you will be...   \n",
       "2  This course consists of a general presentation...   \n",
       "3  When it comes to numbers, there is always more...   \n",
       "4  In this course you�ll learn how to effectively...   \n",
       "\n",
       "                                              Skills  \n",
       "0  Drama  Comedy  peering  screenwriting  film  D...  \n",
       "1  Finance  business plan  persona (user experien...  \n",
       "2  chemistry  physics  Solar Energy  film  lambda...  \n",
       "3  accounts receivable  dupont analysis  analysis...  \n",
       "4  Data Analysis  select (sql)  database manageme...  "
      ]
     },
     "execution_count": 18,
     "metadata": {},
     "output_type": "execute_result"
    }
   ],
   "source": [
    "df = pd.read_csv(\"Coursera-1.csv\")\n",
    "df.head()"
   ]
  },
  {
   "cell_type": "markdown",
   "metadata": {},
   "source": [
    "### Modifying the Data\n",
    "\n",
    "Course Rating mostly has numbers ranging from 0+ to 5. However for new courses or courses where  participants are yet to use, the rating is not present. It is marked as \"Not Calibrated\". In the user interface that would show up as having 0 ratings. So modifying \"Not Calibrated\" to \"0\"."
   ]
  },
  {
   "cell_type": "code",
   "execution_count": 34,
   "metadata": {
    "collapsed": true
   },
   "outputs": [],
   "source": [
    "df[\"Course Rating\"] = df[\"Course Rating\"].replace(to_replace = [\"Not Calibrated\"], value = [0])"
   ]
  },
  {
   "cell_type": "markdown",
   "metadata": {},
   "source": [
    "### Creating the table to dump the data as is"
   ]
  },
  {
   "cell_type": "code",
   "execution_count": 38,
   "metadata": {
    "collapsed": true
   },
   "outputs": [],
   "source": [
    "def create_master_table():\n",
    "    \"\"\" create tables in the PostgreSQL database\"\"\"\n",
    "    command = \"\"\"\n",
    "            create table master_data (\n",
    "                course_name VARCHAR, \n",
    "                university VARCHAR, \n",
    "                difficulty_level VARCHAR, \n",
    "                course_rating FLOAT, \n",
    "                course_url VARCHAR, \n",
    "                course_description VARCHAR, \n",
    "                skills VARCHAR\n",
    "                )\n",
    "        \"\"\"\n",
    "    run_query(command)\n",
    "create_master_table()"
   ]
  },
  {
   "cell_type": "markdown",
   "metadata": {},
   "source": [
    "### Inserting the data into master table"
   ]
  },
  {
   "cell_type": "code",
   "execution_count": 43,
   "metadata": {
    "collapsed": true
   },
   "outputs": [],
   "source": [
    "conn = psycopg2.connect(\n",
    "    host=\"localhost\",\n",
    "    database=\"coursera\",\n",
    "    port=5432,\n",
    "    user=\"postgres\",\n",
    "    password=\"rocky1405!\")\n",
    "conn.autocommit = True\n",
    "cursor = conn.cursor()\n",
    "for row in df.iterrows():\n",
    "    cursor.execute(\"INSERT INTO master_data(course_name, university, difficulty_level, course_rating, course_url, course_description, skills) VALUES(%s, %s, %s, %s, %s, %s, %s)\", (row[1][\"Course Name\"], row[1][\"University\"], row[1][\"Difficulty Level\"], row[1][\"Course Rating\"], row[1][\"Course URL\"], row[1][\"Course Description\"], row[1][\"Skills\"]))"
   ]
  },
  {
   "cell_type": "markdown",
   "metadata": {},
   "source": [
    "### Checking the count to verify that all the data is loaded"
   ]
  },
  {
   "cell_type": "code",
   "execution_count": 44,
   "metadata": {},
   "outputs": [
    {
     "name": "stdout",
     "output_type": "stream",
     "text": [
      "3522\n"
     ]
    }
   ],
   "source": [
    "command = \"\"\"SELECT count(*) from master_data\"\"\"\n",
    "number_of_rows = run_queries(command)\n",
    "print(number_of_rows[0][0])"
   ]
  },
  {
   "cell_type": "markdown",
   "metadata": {},
   "source": [
    "### Checking for duplicates\n",
    "\n",
    "If a row is present more than 1 time, the duplicates are removed & size column represents the number of times duplicate was present. 1 means no duplicate, 2 means presence of 1 duplicate & so on."
   ]
  },
  {
   "cell_type": "code",
   "execution_count": 45,
   "metadata": {},
   "outputs": [
    {
     "data": {
      "text/html": [
       "<div>\n",
       "<style scoped>\n",
       "    .dataframe tbody tr th:only-of-type {\n",
       "        vertical-align: middle;\n",
       "    }\n",
       "\n",
       "    .dataframe tbody tr th {\n",
       "        vertical-align: top;\n",
       "    }\n",
       "\n",
       "    .dataframe thead th {\n",
       "        text-align: right;\n",
       "    }\n",
       "</style>\n",
       "<table border=\"1\" class=\"dataframe\">\n",
       "  <thead>\n",
       "    <tr style=\"text-align: right;\">\n",
       "      <th></th>\n",
       "      <th>Course Name</th>\n",
       "      <th>University</th>\n",
       "      <th>Difficulty Level</th>\n",
       "      <th>Course Rating</th>\n",
       "      <th>Course URL</th>\n",
       "      <th>Course Description</th>\n",
       "      <th>Skills</th>\n",
       "      <th>size</th>\n",
       "    </tr>\n",
       "  </thead>\n",
       "  <tbody>\n",
       "    <tr>\n",
       "      <th>0</th>\n",
       "      <td>\"Making\" Progress Teach-Out</td>\n",
       "      <td>Emory University</td>\n",
       "      <td>Beginner</td>\n",
       "      <td>4.2</td>\n",
       "      <td>https://www.coursera.org/learn/makingprogress</td>\n",
       "      <td>What is �progress�? How do we decide when we�r...</td>\n",
       "      <td>education  circle time  Newspaper  family  hop...</td>\n",
       "      <td>1</td>\n",
       "    </tr>\n",
       "    <tr>\n",
       "      <th>1</th>\n",
       "      <td>(Non) Status quo Attitudes with NetLogo</td>\n",
       "      <td>Coursera Project Network</td>\n",
       "      <td>Conversant</td>\n",
       "      <td>0</td>\n",
       "      <td>https://www.coursera.org/learn/nonstatusquo-at...</td>\n",
       "      <td>Have you ever wondered what is behind differen...</td>\n",
       "      <td>constant (computer programming)  interact  eul...</td>\n",
       "      <td>1</td>\n",
       "    </tr>\n",
       "    <tr>\n",
       "      <th>2</th>\n",
       "      <td>1E Test: How Computers Work</td>\n",
       "      <td>Coursera</td>\n",
       "      <td>Advanced</td>\n",
       "      <td>0</td>\n",
       "      <td>https://www.coursera.org/learn/how-computers-w...</td>\n",
       "      <td>Test</td>\n",
       "      <td>physical address  computer data storage  name ...</td>\n",
       "      <td>1</td>\n",
       "    </tr>\n",
       "    <tr>\n",
       "      <th>3</th>\n",
       "      <td>3-Axis Machining with Autodesk Fusion 360</td>\n",
       "      <td>Autodesk</td>\n",
       "      <td>Intermediate</td>\n",
       "      <td>4.9</td>\n",
       "      <td>https://www.coursera.org/learn/3-axis-machinin...</td>\n",
       "      <td>As our machining geometry gets more complicate...</td>\n",
       "      <td>Mechanical Engineering  representational state...</td>\n",
       "      <td>1</td>\n",
       "    </tr>\n",
       "    <tr>\n",
       "      <th>4</th>\n",
       "      <td>3D Art and Audio Pipeline</td>\n",
       "      <td>Unity</td>\n",
       "      <td>Advanced</td>\n",
       "      <td>4.3</td>\n",
       "      <td>https://www.coursera.org/learn/3d-art-and-audi...</td>\n",
       "      <td>Welcome to 3D Art and Audio Pipeline, the thir...</td>\n",
       "      <td>Software Engineering  software development pro...</td>\n",
       "      <td>1</td>\n",
       "    </tr>\n",
       "  </tbody>\n",
       "</table>\n",
       "</div>"
      ],
      "text/plain": [
       "                                 Course Name                University  \\\n",
       "0                \"Making\" Progress Teach-Out          Emory University   \n",
       "1    (Non) Status quo Attitudes with NetLogo  Coursera Project Network   \n",
       "2                1E Test: How Computers Work                  Coursera   \n",
       "3  3-Axis Machining with Autodesk Fusion 360                  Autodesk   \n",
       "4                  3D Art and Audio Pipeline                     Unity   \n",
       "\n",
       "  Difficulty Level Course Rating  \\\n",
       "0         Beginner           4.2   \n",
       "1       Conversant             0   \n",
       "2         Advanced             0   \n",
       "3     Intermediate           4.9   \n",
       "4         Advanced           4.3   \n",
       "\n",
       "                                          Course URL  \\\n",
       "0      https://www.coursera.org/learn/makingprogress   \n",
       "1  https://www.coursera.org/learn/nonstatusquo-at...   \n",
       "2  https://www.coursera.org/learn/how-computers-w...   \n",
       "3  https://www.coursera.org/learn/3-axis-machinin...   \n",
       "4  https://www.coursera.org/learn/3d-art-and-audi...   \n",
       "\n",
       "                                  Course Description  \\\n",
       "0  What is �progress�? How do we decide when we�r...   \n",
       "1  Have you ever wondered what is behind differen...   \n",
       "2                                               Test   \n",
       "3  As our machining geometry gets more complicate...   \n",
       "4  Welcome to 3D Art and Audio Pipeline, the thir...   \n",
       "\n",
       "                                              Skills  size  \n",
       "0  education  circle time  Newspaper  family  hop...     1  \n",
       "1  constant (computer programming)  interact  eul...     1  \n",
       "2  physical address  computer data storage  name ...     1  \n",
       "3  Mechanical Engineering  representational state...     1  \n",
       "4  Software Engineering  software development pro...     1  "
      ]
     },
     "execution_count": 45,
     "metadata": {},
     "output_type": "execute_result"
    }
   ],
   "source": [
    "df = df.groupby(df.columns.tolist(),as_index=False).size()\n",
    "df.head()"
   ]
  },
  {
   "cell_type": "markdown",
   "metadata": {},
   "source": [
    "### Adding record_id"
   ]
  },
  {
   "cell_type": "code",
   "execution_count": 46,
   "metadata": {},
   "outputs": [
    {
     "data": {
      "text/html": [
       "<div>\n",
       "<style scoped>\n",
       "    .dataframe tbody tr th:only-of-type {\n",
       "        vertical-align: middle;\n",
       "    }\n",
       "\n",
       "    .dataframe tbody tr th {\n",
       "        vertical-align: top;\n",
       "    }\n",
       "\n",
       "    .dataframe thead th {\n",
       "        text-align: right;\n",
       "    }\n",
       "</style>\n",
       "<table border=\"1\" class=\"dataframe\">\n",
       "  <thead>\n",
       "    <tr style=\"text-align: right;\">\n",
       "      <th></th>\n",
       "      <th>Course Name</th>\n",
       "      <th>University</th>\n",
       "      <th>Difficulty Level</th>\n",
       "      <th>Course Rating</th>\n",
       "      <th>Course URL</th>\n",
       "      <th>Course Description</th>\n",
       "      <th>Skills</th>\n",
       "      <th>size</th>\n",
       "      <th>record_id</th>\n",
       "    </tr>\n",
       "  </thead>\n",
       "  <tbody>\n",
       "    <tr>\n",
       "      <th>0</th>\n",
       "      <td>\"Making\" Progress Teach-Out</td>\n",
       "      <td>Emory University</td>\n",
       "      <td>Beginner</td>\n",
       "      <td>4.2</td>\n",
       "      <td>https://www.coursera.org/learn/makingprogress</td>\n",
       "      <td>What is �progress�? How do we decide when we�r...</td>\n",
       "      <td>education  circle time  Newspaper  family  hop...</td>\n",
       "      <td>1</td>\n",
       "      <td>1</td>\n",
       "    </tr>\n",
       "    <tr>\n",
       "      <th>1</th>\n",
       "      <td>(Non) Status quo Attitudes with NetLogo</td>\n",
       "      <td>Coursera Project Network</td>\n",
       "      <td>Conversant</td>\n",
       "      <td>0</td>\n",
       "      <td>https://www.coursera.org/learn/nonstatusquo-at...</td>\n",
       "      <td>Have you ever wondered what is behind differen...</td>\n",
       "      <td>constant (computer programming)  interact  eul...</td>\n",
       "      <td>1</td>\n",
       "      <td>2</td>\n",
       "    </tr>\n",
       "    <tr>\n",
       "      <th>2</th>\n",
       "      <td>1E Test: How Computers Work</td>\n",
       "      <td>Coursera</td>\n",
       "      <td>Advanced</td>\n",
       "      <td>0</td>\n",
       "      <td>https://www.coursera.org/learn/how-computers-w...</td>\n",
       "      <td>Test</td>\n",
       "      <td>physical address  computer data storage  name ...</td>\n",
       "      <td>1</td>\n",
       "      <td>3</td>\n",
       "    </tr>\n",
       "    <tr>\n",
       "      <th>3</th>\n",
       "      <td>3-Axis Machining with Autodesk Fusion 360</td>\n",
       "      <td>Autodesk</td>\n",
       "      <td>Intermediate</td>\n",
       "      <td>4.9</td>\n",
       "      <td>https://www.coursera.org/learn/3-axis-machinin...</td>\n",
       "      <td>As our machining geometry gets more complicate...</td>\n",
       "      <td>Mechanical Engineering  representational state...</td>\n",
       "      <td>1</td>\n",
       "      <td>4</td>\n",
       "    </tr>\n",
       "    <tr>\n",
       "      <th>4</th>\n",
       "      <td>3D Art and Audio Pipeline</td>\n",
       "      <td>Unity</td>\n",
       "      <td>Advanced</td>\n",
       "      <td>4.3</td>\n",
       "      <td>https://www.coursera.org/learn/3d-art-and-audi...</td>\n",
       "      <td>Welcome to 3D Art and Audio Pipeline, the thir...</td>\n",
       "      <td>Software Engineering  software development pro...</td>\n",
       "      <td>1</td>\n",
       "      <td>5</td>\n",
       "    </tr>\n",
       "  </tbody>\n",
       "</table>\n",
       "</div>"
      ],
      "text/plain": [
       "                                 Course Name                University  \\\n",
       "0                \"Making\" Progress Teach-Out          Emory University   \n",
       "1    (Non) Status quo Attitudes with NetLogo  Coursera Project Network   \n",
       "2                1E Test: How Computers Work                  Coursera   \n",
       "3  3-Axis Machining with Autodesk Fusion 360                  Autodesk   \n",
       "4                  3D Art and Audio Pipeline                     Unity   \n",
       "\n",
       "  Difficulty Level Course Rating  \\\n",
       "0         Beginner           4.2   \n",
       "1       Conversant             0   \n",
       "2         Advanced             0   \n",
       "3     Intermediate           4.9   \n",
       "4         Advanced           4.3   \n",
       "\n",
       "                                          Course URL  \\\n",
       "0      https://www.coursera.org/learn/makingprogress   \n",
       "1  https://www.coursera.org/learn/nonstatusquo-at...   \n",
       "2  https://www.coursera.org/learn/how-computers-w...   \n",
       "3  https://www.coursera.org/learn/3-axis-machinin...   \n",
       "4  https://www.coursera.org/learn/3d-art-and-audi...   \n",
       "\n",
       "                                  Course Description  \\\n",
       "0  What is �progress�? How do we decide when we�r...   \n",
       "1  Have you ever wondered what is behind differen...   \n",
       "2                                               Test   \n",
       "3  As our machining geometry gets more complicate...   \n",
       "4  Welcome to 3D Art and Audio Pipeline, the thir...   \n",
       "\n",
       "                                              Skills  size  record_id  \n",
       "0  education  circle time  Newspaper  family  hop...     1          1  \n",
       "1  constant (computer programming)  interact  eul...     1          2  \n",
       "2  physical address  computer data storage  name ...     1          3  \n",
       "3  Mechanical Engineering  representational state...     1          4  \n",
       "4  Software Engineering  software development pro...     1          5  "
      ]
     },
     "execution_count": 46,
     "metadata": {},
     "output_type": "execute_result"
    }
   ],
   "source": [
    "df['record_id'] = list(range(1, df.shape[0] + 1))\n",
    "df.head()"
   ]
  },
  {
   "cell_type": "markdown",
   "metadata": {},
   "source": [
    "### Creating a master table with distributed system\n",
    "\n",
    "The master table would be partitioned by the column \"size\" which reflects the number of times a row is present in the actual data table. There are 4 tables into which the master table is partitioned based on the duplication factor.\n",
    "\n",
    "<b>coursera_node_1:</b> will have data which has come only once in the data<br>\n",
    "<b>coursera_node_2:</b> will have data which is present twice in the data<br>\n",
    "<b>coursera_node_4:</b> will have the data occuring 3 or 4 times in the data<br>\n",
    "<b>coursera_node_8:</b> will have the data occuring 4 to 8 times in the data<br>\n",
    "\n",
    "Each of the node table is then partitioned into 4 based on the rating received.\n",
    "\n",
    "<b>low_rating_node_1:</b> will have data where courses have ratings between 0 & 2 in the rows which have occured only 1 in the master data.<br>\n",
    "<b>medium_rating_node_1:</b> will have data where courses have ratings between 2 & 4 in the rows which have occured only 1 in the master data.<br>\n",
    "<b>good_rating_node_1:</b> will have data where courses have ratings between 4 & 4.51 in the rows which have occured only 1 in the master data.<br>\n",
    "<b>great_rating_node_1:</b> will have data where courses have ratings between 4.51 & 5.1 in the rows which have occured only 1 in the master data.<br>\n",
    "\n",
    "<i><b>Note:</b> values taken by partitioning dont take into consideration the upper limit. Hence if limit is mentioned as 5, 5 wont be considered in the partitioning. Hence, upper limit is mentioned as .1 more than the intended limit.</i>"
   ]
  },
  {
   "cell_type": "code",
   "execution_count": 85,
   "metadata": {
    "collapsed": true
   },
   "outputs": [],
   "source": [
    "def create_distributed_master_table():\n",
    "    \"\"\" create tables in the PostgreSQL database\"\"\"\n",
    "    command = \"\"\"\n",
    "            create table coursera_master (\n",
    "                course_name VARCHAR,\n",
    "                university VARCHAR,\n",
    "                difficulty_level VARCHAR,\n",
    "                course_rating FLOAT,\n",
    "                course_url VARCHAR,\n",
    "                course_description VARCHAR,\n",
    "                skills VARCHAR,\n",
    "                record_id NUMERIC,\n",
    "                size NUMERIC\n",
    "            ) PARTITION BY RANGE (size)\n",
    "        \"\"\"\n",
    "    run_query(command)\n",
    "create_distributed_master_table()"
   ]
  },
  {
   "cell_type": "markdown",
   "metadata": {},
   "source": [
    "### Creating node for records occuring once"
   ]
  },
  {
   "cell_type": "code",
   "execution_count": 86,
   "metadata": {
    "collapsed": true
   },
   "outputs": [],
   "source": [
    "def create_node_1():\n",
    "    \"\"\" create tables in the PostgreSQL database\"\"\"\n",
    "    command_1 = \"\"\"create table coursera_node_1 PARTITION OF coursera_master FOR VALUES FROM (1) to (1.1) PARTITION BY RANGE (course_rating)\"\"\"\n",
    "    run_query(command_1)\n",
    "    command_2 = \"\"\"create table low_rating_node_1 PARTITION OF coursera_node_1 FOR VALUES FROM (0) TO (2)\"\"\"\n",
    "    run_query(command_2)\n",
    "    command_3 = \"\"\"create table medium_rating_node_1 PARTITION OF coursera_node_1 FOR VALUES FROM (2) TO (4)\"\"\"\n",
    "    run_query(command_3)\n",
    "    command_4 = \"\"\"create table good_rating_node_1 PARTITION OF coursera_node_1 FOR VALUES FROM (4) TO (4.51)\"\"\"\n",
    "    run_query(command_4)\n",
    "    command_5 = \"\"\"create table great_rating_node_1 PARTITION OF coursera_node_1 FOR VALUES FROM (4.51) TO (5.1)\"\"\"\n",
    "    run_query(command_5)\n",
    "create_node_1()"
   ]
  },
  {
   "cell_type": "markdown",
   "metadata": {},
   "source": [
    "### Creating node for records occuring twice"
   ]
  },
  {
   "cell_type": "code",
   "execution_count": 87,
   "metadata": {
    "collapsed": true
   },
   "outputs": [],
   "source": [
    "def create_node_2():\n",
    "    \"\"\" create tables in the PostgreSQL database\"\"\"\n",
    "    command_1 = \"\"\"create table coursera_node_2 PARTITION OF coursera_master FOR VALUES FROM (2) to (2.1) PARTITION BY RANGE (course_rating)\"\"\"\n",
    "    run_query(command_1)\n",
    "    command_2 = \"\"\"create table low_rating_node_2 PARTITION OF coursera_node_2 FOR VALUES FROM (0) TO (2)\"\"\"\n",
    "    run_query(command_2)\n",
    "    command_3 = \"\"\"create table medium_rating_node_2 PARTITION OF coursera_node_2 FOR VALUES FROM (2) TO (4)\"\"\"\n",
    "    run_query(command_3)\n",
    "    command_4 = \"\"\"create table good_rating_node_2 PARTITION OF coursera_node_2 FOR VALUES FROM (4) TO (4.51)\"\"\"\n",
    "    run_query(command_4)\n",
    "    command_5 = \"\"\"create table great_rating_node_2 PARTITION OF coursera_node_2 FOR VALUES FROM (4.51) TO (5.1)\"\"\"\n",
    "    run_query(command_5)\n",
    "create_node_2()"
   ]
  },
  {
   "cell_type": "markdown",
   "metadata": {},
   "source": [
    "### Creating node for records occuring 3 or 4 times"
   ]
  },
  {
   "cell_type": "code",
   "execution_count": 88,
   "metadata": {
    "collapsed": true
   },
   "outputs": [],
   "source": [
    "def create_node_4():\n",
    "    \"\"\" create tables in the PostgreSQL database\"\"\"\n",
    "    command_1 = \"\"\"create table coursera_node_4 PARTITION OF coursera_master FOR VALUES FROM (3) to (4.1) PARTITION BY RANGE (course_rating)\"\"\"\n",
    "    run_query(command_1)\n",
    "    command_2 = \"\"\"create table low_rating_node_4 PARTITION OF coursera_node_4 FOR VALUES FROM (0) TO (2)\"\"\"\n",
    "    run_query(command_2)\n",
    "    command_3 = \"\"\"create table medium_rating_node_4 PARTITION OF coursera_node_4 FOR VALUES FROM (2) TO (4)\"\"\"\n",
    "    run_query(command_3)\n",
    "    command_4 = \"\"\"create table good_rating_node_4 PARTITION OF coursera_node_4 FOR VALUES FROM (4) TO (4.51)\"\"\"\n",
    "    run_query(command_4)\n",
    "    command_5 = \"\"\"create table great_rating_node_4 PARTITION OF coursera_node_4 FOR VALUES FROM (4.51) TO (5.1)\"\"\"\n",
    "    run_query(command_5)\n",
    "create_node_4()"
   ]
  },
  {
   "cell_type": "markdown",
   "metadata": {},
   "source": [
    "### Creating node for records occuring between 4 to 8 times"
   ]
  },
  {
   "cell_type": "code",
   "execution_count": 89,
   "metadata": {
    "collapsed": true
   },
   "outputs": [],
   "source": [
    "def create_node_8():\n",
    "    \"\"\" create tables in the PostgreSQL database\"\"\"\n",
    "    command_1 = \"\"\"create table coursera_node_8 PARTITION OF coursera_master FOR VALUES FROM (4.1) to (8.1) PARTITION BY RANGE (course_rating)\"\"\"\n",
    "    run_query(command_1)\n",
    "    command_2 = \"\"\"create table low_rating_node_8 PARTITION OF coursera_node_8 FOR VALUES FROM (0) TO (2)\"\"\"\n",
    "    run_query(command_2)\n",
    "    command_3 = \"\"\"create table medium_rating_node_8 PARTITION OF coursera_node_8 FOR VALUES FROM (2) TO (4)\"\"\"\n",
    "    run_query(command_3)\n",
    "    command_4 = \"\"\"create table good_rating_node_8 PARTITION OF coursera_node_8 FOR VALUES FROM (4) TO (4.51)\"\"\"\n",
    "    run_query(command_4)\n",
    "    command_5 = \"\"\"create table great_rating_node_8 PARTITION OF coursera_node_8 FOR VALUES FROM (4.51) TO (5.1)\"\"\"\n",
    "    run_query(command_5)\n",
    "create_node_8()"
   ]
  },
  {
   "cell_type": "markdown",
   "metadata": {},
   "source": [
    "### Inserting data into the master table with partitioning"
   ]
  },
  {
   "cell_type": "code",
   "execution_count": 90,
   "metadata": {
    "collapsed": true
   },
   "outputs": [],
   "source": [
    "conn = psycopg2.connect(\n",
    "    host=\"localhost\",\n",
    "    database=\"coursera\",\n",
    "    port=5432,\n",
    "    user=\"postgres\",\n",
    "    password=\"rocky1405!\")\n",
    "conn.autocommit = True\n",
    "cursor = conn.cursor()\n",
    "for row in df.iterrows():\n",
    "    cursor.execute(\"INSERT INTO coursera_master(course_name, university, difficulty_level, course_rating, course_url, course_description, skills, record_id, size) VALUES(%s, %s, %s, %s, %s, %s, %s, %s, %s)\", (row[1][\"Course Name\"], row[1][\"University\"], row[1][\"Difficulty Level\"], row[1][\"Course Rating\"], row[1][\"Course URL\"], row[1][\"Course Description\"], row[1][\"Skills\"], row[1][\"record_id\"], row[1][\"size\"]))"
   ]
  },
  {
   "cell_type": "markdown",
   "metadata": {},
   "source": [
    "### Cost Analysis\n",
    "\n",
    "The query immediately below is run on the master table with no distributed system & partitioning. The cost to run the query is 644.83ms.\n",
    "\n",
    "The cell below that has the query run on the master table with distributed system & partitioning. The cost to run the query is 228.07ms. \n",
    "\n",
    "On comparison, the cost to run the same query on table without partitioning was almost 3 times the when compared to the cost of the query run on table with partitioning. This gives the us an idea of how efficient the distributed architecture is.\n",
    "\n",
    "On further analysis of the explanation of query on partitioned system, we can see that since rating was asked between 4.1 & 4.3 the search happened only in good_rating_nodes as compared to search on all the table. This helps in achieving the required efficiency."
   ]
  },
  {
   "cell_type": "code",
   "execution_count": 96,
   "metadata": {},
   "outputs": [
    {
     "name": "stdout",
     "output_type": "stream",
     "text": [
      "Seq Scan on master_data  (cost=0.00..644.83 rows=371 width=77)\n",
      "  Filter: ((course_rating >= '4.1'::double precision) AND (course_rating <= '4.3'::double precision))\n"
     ]
    }
   ],
   "source": [
    "command = \"\"\"EXPLAIN select course_name, university, course_rating from master_data where course_rating >= 4.1 AND course_rating <= 4.3;\"\"\"\n",
    "explanation = run_queries(command)\n",
    "for row in explanation:\n",
    "    print(row[0])"
   ]
  },
  {
   "cell_type": "code",
   "execution_count": 95,
   "metadata": {},
   "outputs": [
    {
     "name": "stdout",
     "output_type": "stream",
     "text": [
      "Append  (cost=0.00..228.07 rows=360 width=77)\n",
      "  ->  Seq Scan on good_rating_node_1 coursera_master_1  (cost=0.00..184.12 rows=357 width=77)\n",
      "        Filter: ((course_rating >= '4.1'::double precision) AND (course_rating <= '4.3'::double precision))\n",
      "  ->  Seq Scan on good_rating_node_2 coursera_master_2  (cost=0.00..14.05 rows=1 width=72)\n",
      "        Filter: ((course_rating >= '4.1'::double precision) AND (course_rating <= '4.3'::double precision))\n",
      "  ->  Seq Scan on good_rating_node_4 coursera_master_3  (cost=0.00..14.05 rows=1 width=72)\n",
      "        Filter: ((course_rating >= '4.1'::double precision) AND (course_rating <= '4.3'::double precision))\n",
      "  ->  Seq Scan on good_rating_node_8 coursera_master_4  (cost=0.00..14.05 rows=1 width=72)\n",
      "        Filter: ((course_rating >= '4.1'::double precision) AND (course_rating <= '4.3'::double precision))\n"
     ]
    }
   ],
   "source": [
    "command = \"\"\"EXPLAIN select course_name, university, course_rating from coursera_master where course_rating >= 4.1 AND course_rating <= 4.3;\"\"\"\n",
    "explanation = run_queries(command)\n",
    "for row in explanation:\n",
    "    print(row[0])"
   ]
  },
  {
   "cell_type": "markdown",
   "metadata": {},
   "source": [
    "### Retrieving data based on duplication\n",
    "\n",
    "The below record_id had a duplication factor of 3, which means the row had occurred 3 times in the original data. When data was stored in the database, duplicates were removed & size was the column kept to keep the record of it. The number is shown in the cell immediately below. There is only 1 row which has the record saved in the table with record_id 1178. \n",
    "\n",
    "However, the record of number of occurences is stored in the column size. When retrieving, based on the value mentioned in size, the number of rows will be returned correspondingly.\n",
    "\n"
   ]
  },
  {
   "cell_type": "code",
   "execution_count": 101,
   "metadata": {},
   "outputs": [
    {
     "name": "stdout",
     "output_type": "stream",
     "text": [
      "1\n",
      "('Essential Google Cloud Infrastructure: Core Services', 'Google Cloud', 'Conversant', 4.7, 'https://www.coursera.org/learn/gcp-infrastructure-core-services', 'This accelerated on-demand course introduces participants to the comprehensive and flexible infrastructure and platform services provided by Google Cloud with a focus on Compute Engine. Through a combination of video lectures, demos, and hands-on labs, participants explore and deploy solution elements, including infrastructure components such as networks, systems and applications services. This course also covers deploying practical solutions including customer-supplied encryption keys, security and access management, quotas and billing, and resource monitoring.  Prerequisites: To get the most out of this course, participants should have: � Completed Google Cloud Fundamentals: Core Infrastructure or have equivalent experience � Completed Essential Google Cloud Infrastructure: Foundation or have equivalent experience � Basic proficiency with command-line tools and Linux operating system environments � Systems Operations experience including deploying and managing applications, either on-premises or in a public cloud environment  New! CERTIFICATE COMPLETION CHALLENGE to unlock benefits from Coursera and Google Cloud Enroll and complete Cloud Engineering with Google Cloud or Cloud Architecture with Google Cloud Professional Certificate  or Data Engineering with Google Cloud Professional Certificate before November 8, 2020 to receive the following benefits;   => Google Cloud t-shirt, for the first 1,000 eligible learners to complete. While supplies last. > Exclusive access to Big => Interview ($950 value) and career coaching  => 30 days free access to Qwiklabs ($50 value) to earn Google Cloud recognized skill badges by completing challenge quests  >>> By enrolling in this course you agree to the Qwiklabs Terms of Service as set out in the FAQ and located at: https://qwiklabs.com/terms_of_service <<<', 'Leadership and Management  bigquery  Cloud Infrastructure  identity management  Cloud Platforms  Cloud Computing  network monitoring  Google Cloud Platform  Cloud Storage  resource information-technology cloud-computing', Decimal('1178'), Decimal('3'))\n"
     ]
    }
   ],
   "source": [
    "command = \"\"\"SELECT * FROM coursera_master WHERE record_id=1178\"\"\"\n",
    "data = run_queries(command)\n",
    "print(len(data))\n",
    "print(data[0])"
   ]
  },
  {
   "cell_type": "code",
   "execution_count": 99,
   "metadata": {},
   "outputs": [
    {
     "name": "stdout",
     "output_type": "stream",
     "text": [
      "3\n"
     ]
    }
   ],
   "source": [
    "command = \"\"\"SELECT * FROM coursera_master c CROSS JOIN generate_series(1,c.size) as x WHERE record_id=1178\"\"\"\n",
    "data = run_queries(command)\n",
    "print(len(data))"
   ]
  },
  {
   "cell_type": "markdown",
   "metadata": {},
   "source": [
    "### Replication\n",
    "\n",
    "The implementation is done in a master-slave architecture with the replication factor of 1. All the operations done on the master will be mirrored in the slave so that there is always a backup available in case the master becomes unavailable. This ensures high availability of the system for access.\n",
    "\n",
    "All the operations done above are performed on the master which is available at the port 5432. However, to show data replication, the slave is available on port 5433 & the query is run on the same server."
   ]
  },
  {
   "cell_type": "code",
   "execution_count": 103,
   "metadata": {},
   "outputs": [
    {
     "name": "stdout",
     "output_type": "stream",
     "text": [
      "3424\n"
     ]
    }
   ],
   "source": [
    "conn = psycopg2.connect(\n",
    "            host=\"localhost\",\n",
    "            database=\"coursera\",\n",
    "            user=\"postgres\",\n",
    "            port=5433,\n",
    "            password=\"rocky1405!\")\n",
    "cur = conn.cursor()\n",
    "command = \"select count(*) from coursera_master\"\n",
    "cur.execute(command)\n",
    "rows = cur.fetchall()\n",
    "print(rows[0][0])\n",
    "cur.close()\n",
    "conn.commit()\n",
    "conn.close()"
   ]
  },
  {
   "cell_type": "code",
   "execution_count": null,
   "metadata": {
    "collapsed": true
   },
   "outputs": [],
   "source": []
  }
 ],
 "metadata": {
  "kernelspec": {
   "display_name": "Python 3",
   "language": "python",
   "name": "python3"
  },
  "language_info": {
   "codemirror_mode": {
    "name": "ipython",
    "version": 3
   },
   "file_extension": ".py",
   "mimetype": "text/x-python",
   "name": "python",
   "nbconvert_exporter": "python",
   "pygments_lexer": "ipython3",
   "version": "3.8.5"
  }
 },
 "nbformat": 4,
 "nbformat_minor": 4
}
